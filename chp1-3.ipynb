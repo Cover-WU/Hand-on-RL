{
 "cells": [
  {
   "cell_type": "markdown",
   "metadata": {},
   "source": [
    "# Markov Process"
   ]
  },
  {
   "cell_type": "markdown",
   "metadata": {},
   "source": [
    "## Markov Reward Process"
   ]
  },
  {
   "cell_type": "code",
   "execution_count": 1,
   "metadata": {
    "colab": {
     "base_uri": "https://localhost:8080/"
    },
    "executionInfo": {
     "elapsed": 451,
     "status": "ok",
     "timestamp": 1720598827632,
     "user": {
      "displayName": "Cover WU",
      "userId": "01516853903397807956"
     },
     "user_tz": -480
    },
    "id": "LYBSNblVZz2M",
    "outputId": "9e658599-4577-4ab1-c1f0-cba4f554e155"
   },
   "outputs": [
    {
     "name": "stdout",
     "output_type": "stream",
     "text": [
      "Cumulated reward computed from trajectory: -2.5.\n"
     ]
    }
   ],
   "source": [
    "import numpy as np\n",
    "np.random.seed(0)\n",
    "# define the transition matrix\n",
    "# this is Markov reward process\n",
    "P = [\n",
    "    [0.9, 0.1, 0.0, 0.0, 0.0, 0.0],\n",
    "    [0.5, 0.0, 0.5, 0.0, 0.0, 0.0],\n",
    "    [0.0, 0.0, 0.0, 0.6, 0.0, 0.4],\n",
    "    [0.0, 0.0, 0.0, 0.0, 0.3, 0.7],\n",
    "    [0.0, 0.2, 0.3, 0.5, 0.0, 0.0],\n",
    "    [0.0, 0.0, 0.0, 0.0, 0.0, 1.0],\n",
    "]\n",
    "P = np.array(P)\n",
    "\n",
    "rewards = [-1, -2, -2, 10, 1, 0] # rewards vector\n",
    "gamma = 0.5 # discounting factor\n",
    "\n",
    "# compute the gain\n",
    "def compute_return(start_index, chain, gamma):\n",
    "    G = 0\n",
    "    for i in reversed(range(start_index, len(chain))):\n",
    "        G = gamma * G + rewards[chain[i] - 1] # ? why minus 1?\n",
    "    return G\n",
    "\n",
    "chain = [1, 2, 3, 6]\n",
    "start_index = 0\n",
    "G = compute_return(start_index, chain, gamma)\n",
    "print(\"Cumulated reward computed from trajectory: %s.\" % G)"
   ]
  },
  {
   "cell_type": "code",
   "execution_count": 2,
   "metadata": {
    "colab": {
     "base_uri": "https://localhost:8080/"
    },
    "executionInfo": {
     "elapsed": 2,
     "status": "ok",
     "timestamp": 1720598829257,
     "user": {
      "displayName": "Cover WU",
      "userId": "01516853903397807956"
     },
     "user_tz": -480
    },
    "id": "hyElnEpGdG2h",
    "outputId": "7210c99e-030b-4179-84d1-1fa6854b08b9"
   },
   "outputs": [
    {
     "name": "stdout",
     "output_type": "stream",
     "text": [
      "The value of each state in MRP is: \n",
      " [[-2.01950168]\n",
      " [-2.21451846]\n",
      " [ 1.16142785]\n",
      " [10.53809283]\n",
      " [ 3.58728554]\n",
      " [ 0.        ]]\n"
     ]
    }
   ],
   "source": [
    "def compute(P, rewards, gamma, state_num):\n",
    "    '''\n",
    "    Bellman Equation, solve the exact solution.\n",
    "\n",
    "    state_num: number of the states.\n",
    "    '''\n",
    "    rewards = np.array(rewards).reshape((-1, 1)) # flatten the reward vector\n",
    "    # solve Bellman Equation\n",
    "    value = np.dot(np.linalg.inv(np.eye(state_num, state_num) - gamma * P), rewards)\n",
    "\n",
    "    return value\n",
    "\n",
    "V = compute(P, rewards, gamma, 6)\n",
    "print(\"The value of each state in MRP is: \\n\", V)\n"
   ]
  },
  {
   "cell_type": "markdown",
   "metadata": {},
   "source": [
    "## Markov Decision Process"
   ]
  },
  {
   "cell_type": "code",
   "execution_count": 3,
   "metadata": {
    "colab": {
     "base_uri": "https://localhost:8080/"
    },
    "executionInfo": {
     "elapsed": 2,
     "status": "ok",
     "timestamp": 1720598830823,
     "user": {
      "displayName": "Cover WU",
      "userId": "01516853903397807956"
     },
     "user_tz": -480
    },
    "id": "KfvmuyCugncc",
    "outputId": "0338d63a-655b-49c8-88e3-cee0b5dc64f1"
   },
   "outputs": [
    {
     "name": "stdout",
     "output_type": "stream",
     "text": [
      "The value of each state in MDP is: \n",
      " [[-1.22555411]\n",
      " [-1.67666232]\n",
      " [ 0.51890482]\n",
      " [ 6.0756193 ]\n",
      " [ 0.        ]]\n"
     ]
    }
   ],
   "source": [
    "S = [\"s1\", \"s2\", \"s3\", \"s4\", \"s5\"]\n",
    "A = [\"stays1\", \"towards1\", \"towards2\", \"towards3\", \"towards4\", \"towards5\", \"randomwalk\"]\n",
    "P = {\n",
    "    \"s1-stays1-s1\": 1.0,\n",
    "    \"s1-towards2-s2\": 1.0,\n",
    "    \"s2-towards1-s1\": 1.0,\n",
    "    \"s2-towards3-s3\": 1.0,\n",
    "    \"s3-towards4-s4\": 1.0,\n",
    "    \"s3-towards5-s5\": 1.0,\n",
    "    \"s4-towards5-s5\": 1.0,\n",
    "    \"s4-randomwalk-s2\": 0.2,\n",
    "    \"s4-randomwalk-s3\": 0.4,\n",
    "    \"s4-randomwalk-s4\": 0.4,\n",
    "}\n",
    "\n",
    "R = {\n",
    "    \"s1-stays1\": -1,\n",
    "    \"s1-towards2\": 0,\n",
    "    \"s2-towards1\": -1,\n",
    "    \"s2-towards3\": -2,\n",
    "    \"s3-towards4\": -2,\n",
    "    \"s3-towards5\": 0,\n",
    "    \"s4-towards5\": 10,\n",
    "    \"s4-randomwalk\": 1,\n",
    "}\n",
    "\n",
    "gamma = .5\n",
    "MDP = (S, A, P, R, gamma)\n",
    "\n",
    "# policy 1\n",
    "Pi_1 = {\n",
    "    \"s1-stays1\": 0.5,\n",
    "    \"s1-towards2\": 0.5,\n",
    "    \"s2-towards1\": 0.5,\n",
    "    \"s2-towards3\": 0.5,\n",
    "    \"s3-towards4\": 0.5,\n",
    "    \"s3-towards5\": 0.5,\n",
    "    \"s4-towards5\": 0.5,\n",
    "    \"s4-randomwalk\": 0.5,\n",
    "}\n",
    "\n",
    "# policy 2\n",
    "Pi_2 = {\n",
    "    \"s1-stays1\": 0.6,\n",
    "    \"s1-towards2\": 0.4,\n",
    "    \"s2-towards1\": 0.3,\n",
    "    \"s2-towards3\": 0.7,\n",
    "    \"s3-towards4\": 0.5,\n",
    "    \"s3-towards5\": 0.5,\n",
    "    \"s4-towards5\": 0.1,\n",
    "    \"s4-randomwalk\": 0.9,\n",
    "}\n",
    "\n",
    "def join(str1, str2):\n",
    "    return str1 + '-' + str2\n",
    "\n",
    "gamma = 0.5\n",
    "# compute the transition matrix\n",
    "P_from_mdp_to_mrp = [\n",
    "    [0.5, 0.5, 0.0, 0.0, 0.0],\n",
    "    [0.5, 0.0, 0.5, 0.0, 0.0],\n",
    "    [0.0, 0.0, 0.0, 0.5, 0.5],\n",
    "    [0.0, 0.1, 0.2, 0.2, 0.5],\n",
    "    [0.0, 0.0, 0.0, 0.0, 1.0],\n",
    "]\n",
    "\n",
    "P_from_mdp_to_mrp = np.array(P_from_mdp_to_mrp)\n",
    "R_from_mdp_to_mrp = [-0.5, -1.5, -1.0, 5.5, 0]\n",
    "V = compute(P_from_mdp_to_mrp, R_from_mdp_to_mrp, gamma, 5)\n",
    "\n",
    "print(\"The value of each state in MDP is: \\n\", V)"
   ]
  },
  {
   "cell_type": "markdown",
   "metadata": {},
   "source": [
    "## Monte Carlo Sampling to Compute Value"
   ]
  },
  {
   "cell_type": "code",
   "execution_count": 4,
   "metadata": {
    "colab": {
     "base_uri": "https://localhost:8080/",
     "height": 349
    },
    "executionInfo": {
     "elapsed": 442,
     "status": "error",
     "timestamp": 1720599022006,
     "user": {
      "displayName": "Cover WU",
      "userId": "01516853903397807956"
     },
     "user_tz": -480
    },
    "id": "EdnoBSRMrnIZ",
    "outputId": "2a989de0-d8c8-4c9d-c0c5-ff567fd1ac41"
   },
   "outputs": [
    {
     "name": "stdout",
     "output_type": "stream",
     "text": [
      "The first sequence\n",
      " [('s1', 'towards2', 0, 's2'), ('s2', 'towards3', -2, 's3'), ('s3', 'towards5', 0, 's5')]\n",
      "The second sequence\n",
      " [('s4', 'randomwalk', 1, 's4'), ('s4', 'towards5', 10, 's5')]\n",
      "The fifth sequence\n",
      " [('s2', 'towards3', -2, 's3'), ('s3', 'towards4', -2, 's4'), ('s4', 'towards5', 10, 's5')]\n"
     ]
    }
   ],
   "source": [
    "def sample(MDP, Pi, timestep_max, number):\n",
    "    '''\n",
    "    MC sampling:\n",
    "    Policy: Pi\n",
    "    Timespan maximal: timestep_max\n",
    "    Sample size: number\n",
    "    '''\n",
    "    S, A, P, R, gamma = MDP\n",
    "    episodes = []\n",
    "    for _ in range(number):\n",
    "        episode = []\n",
    "        timestep = 0\n",
    "        # randomly pick a state except state 5 as the start point.\n",
    "        s = S[np.random.randint(4)]\n",
    "        while s != \"s5\" and timestep <= timestep_max:\n",
    "            timestep += 1\n",
    "            # ref discrete probability distribution sampling\n",
    "            rand, temp = np.random.rand(), 0\n",
    "            # choose the action from the policy defined\n",
    "            for a_opt in A:\n",
    "                temp += Pi.get(join(s, a_opt), 0) # why +=\n",
    "                if temp > rand:\n",
    "                    a = a_opt\n",
    "                    r = R.get(join(s, a), 0)\n",
    "                    break\n",
    "            rand, temp = np.random.rand(), 0\n",
    "            # transit to the s_next according to the transition matrix\n",
    "            for s_opt in S:\n",
    "                temp += P.get(join(join(s, a), s_opt), 0)\n",
    "                if temp > rand:\n",
    "                    s_next = s_opt\n",
    "                    break\n",
    "            episode.append((s, a, r, s_next))\n",
    "            s = s_next\n",
    "        episodes.append(episode)\n",
    "    return episodes\n",
    "\n",
    "episodes = sample(MDP, Pi_1, 20, 5)\n",
    "print('The first sequence\\n', episodes[0])\n",
    "print('The second sequence\\n', episodes[1])\n",
    "print('The fifth sequence\\n', episodes[4])"
   ]
  },
  {
   "cell_type": "code",
   "execution_count": 5,
   "metadata": {
    "id": "OLffEwIwrqCT"
   },
   "outputs": [
    {
     "name": "stdout",
     "output_type": "stream",
     "text": [
      "The value function of all states estimated by Monte Carlo is: \n",
      " {'s1': -1.228923788722258, 's2': -1.6955696284402704, 's3': 0.4823809701532294, 's4': 5.967514743019431, 's5': 0}\n"
     ]
    }
   ],
   "source": [
    "def MC(episodes, V, N, gamma):\n",
    "    for episode in episodes:\n",
    "        G = 0\n",
    "        for i in range(len(episode) - 1, -1, -1):\n",
    "            (s, a, r, s_next) = episode[i]\n",
    "            G = r + gamma * G\n",
    "            N[s] += 1\n",
    "            V[s] += (G - V[s]) / N[s]\n",
    "\n",
    "timestep_max = 20\n",
    "# sample for 1000 times\n",
    "episodes = sample(MDP, Pi_1, timestep_max, 1000)\n",
    "gamma = 0.5\n",
    "V = {\"s1\": 0, 's2': 0, 's3': 0, 's4': 0, 's5': 0}\n",
    "N = {\"s1\": 0, 's2': 0, 's3': 0, 's4': 0, 's5': 0}\n",
    "\n",
    "MC(episodes, V, N, gamma)\n",
    "print(\"The value function of all states estimated by Monte Carlo is: \\n\", V)"
   ]
  },
  {
   "cell_type": "markdown",
   "metadata": {},
   "source": [
    "## State Visitation & Occupancy"
   ]
  },
  {
   "cell_type": "code",
   "execution_count": 8,
   "metadata": {},
   "outputs": [
    {
     "name": "stdout",
     "output_type": "stream",
     "text": [
      "0.11365220293209718 0.2487246201875158\n"
     ]
    }
   ],
   "source": [
    "def occupancy(episodes, s, a, timestep_max, gamma):\n",
    "    '''estimate the occupancy of state s at time t using episodes'''\n",
    "    rho = 0\n",
    "    total_times = np.zeros(timestep_max)\n",
    "    occur_times = np.zeros(timestep_max)\n",
    "    for episode in episodes:\n",
    "        for i in range(len(episode)):\n",
    "            (s_opt, a_opt, r, s_next) = episode[i]\n",
    "            total_times[i] += 1\n",
    "            if s_opt == s and a_opt == a:\n",
    "                occur_times[i] += 1\n",
    "    for i in reversed(range(timestep_max)):\n",
    "        if total_times[i]:\n",
    "            rho += gamma ** i * occur_times[i] / total_times[i]\n",
    "\n",
    "    return rho * (1 - gamma)\n",
    "\n",
    "gamma = 0.5\n",
    "timestep_max = 1000\n",
    "episodes_1 = sample(MDP, Pi_1, timestep_max, 1000)\n",
    "episodes_2 = sample(MDP, Pi_2, timestep_max, 1000)\n",
    "rho_1 = occupancy(episodes_1, 's4', 'randomwalk', timestep_max, gamma)\n",
    "rho_2 = occupancy(episodes_2, 's4', 'randomwalk', timestep_max, gamma)\n",
    "print(rho_1, rho_2)"
   ]
  }
 ],
 "metadata": {
  "colab": {
   "authorship_tag": "ABX9TyOTpDeV9O+YfIPqJMHM4wiJ",
   "provenance": []
  },
  "kernelspec": {
   "display_name": "Python 3",
   "name": "python3"
  },
  "language_info": {
   "codemirror_mode": {
    "name": "ipython",
    "version": 3
   },
   "file_extension": ".py",
   "mimetype": "text/x-python",
   "name": "python",
   "nbconvert_exporter": "python",
   "pygments_lexer": "ipython3",
   "version": "3.9.18"
  }
 },
 "nbformat": 4,
 "nbformat_minor": 0
}
